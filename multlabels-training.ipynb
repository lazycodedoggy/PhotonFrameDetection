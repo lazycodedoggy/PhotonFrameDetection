{
 "cells": [
  {
   "cell_type": "code",
   "execution_count": null,
   "id": "5e6bd35b-8211-4282-8284-1b59716a81c7",
   "metadata": {
    "ExecutionIndicator": {
     "show": true
    },
    "execution": {
     "iopub.execute_input": "2024-04-19T08:01:59.327116Z",
     "iopub.status.busy": "2024-04-19T08:01:59.326679Z",
     "iopub.status.idle": "2024-04-19T08:02:02.125586Z",
     "shell.execute_reply": "2024-04-19T08:02:02.124877Z",
     "shell.execute_reply.started": "2024-04-19T08:01:59.327084Z"
    },
    "tags": []
   },
   "outputs": [],
   "source": [
    "import sys\n",
    "import os\n",
    "import logging\n",
    "import re\n",
    "from time import time as ttime\n",
    "\n",
    "import torch\n",
    "import torch.nn as nn\n",
    "import torch.optim as optim\n",
    "import torchvision\n",
    "import torchvision.models as models\n",
    "from torchinfo import summary\n",
    "from torch.utils.data import Dataset, IterableDataset, DataLoader, random_split\n",
    "import numpy as np\n",
    "\n",
    "from PhotonDataset import transform, PhotonDataset\n",
    "\n",
    "logging.getLogger(\"PIL\").setLevel(logging.ERROR)\n",
    "logging.basicConfig(stream=sys.stdout, level=logging.DEBUG)\n",
    "logger = logging"
   ]
  },
  {
   "cell_type": "code",
   "execution_count": 2,
   "id": "488c45c1-31b0-4208-8e10-adeb831d7570",
   "metadata": {
    "ExecutionIndicator": {
     "show": false
    },
    "execution": {
     "iopub.execute_input": "2024-04-19T08:02:07.067000Z",
     "iopub.status.busy": "2024-04-19T08:02:07.066414Z",
     "iopub.status.idle": "2024-04-19T08:02:07.072016Z",
     "shell.execute_reply": "2024-04-19T08:02:07.071326Z",
     "shell.execute_reply.started": "2024-04-19T08:02:07.066960Z"
    },
    "tags": []
   },
   "outputs": [],
   "source": [
    "BASE_PATH=\"/mnt/ossdata/\"\n",
    "\n",
    "INSPECT2ID = {\n",
    "    \"Stratum_corneum\" : 0,\n",
    "    \"DEJunction\" : 1,\n",
    "    \"ELCOR\" : 2,\n",
    "}\n",
    "\n",
    "IDS2INSPECT = {\n",
    "    0 : \"Stratum_corneum\",\n",
    "    1 : \"DEJunction\",\n",
    "    2 : \"ELCOR\",\n",
    "}\n",
    "\n",
    "PRECISION_WINDOWS=3\n",
    "\n",
    "MODEL_DIR_PATH=\"/versions\"\n",
    "MODEL_FILE_NAME=\"DoublePhoton\"\n",
    "THRESHOLD=0.7\n",
    "LEARNING_RATE=0.0001\n",
    "MODEL_SAVE_VER=150\n",
    "WEIGHT_RATE=0.8"
   ]
  },
  {
   "cell_type": "code",
   "execution_count": null,
   "id": "c3a5f13f-0ede-4928-96cf-523a4255a6f1",
   "metadata": {
    "execution": {
     "iopub.execute_input": "2024-04-19T08:02:12.550492Z",
     "iopub.status.busy": "2024-04-19T08:02:12.550027Z",
     "iopub.status.idle": "2024-04-19T08:02:12.563458Z",
     "shell.execute_reply": "2024-04-19T08:02:12.562826Z",
     "shell.execute_reply.started": "2024-04-19T08:02:12.550442Z"
    },
    "tags": []
   },
   "outputs": [],
   "source": [
    "device = 'cuda' if torch.cuda.is_available() else 'cpu'\n",
    "print('Using {} device'.format(device))"
   ]
  },
  {
   "cell_type": "code",
   "execution_count": 4,
   "id": "47cd99fa-5cd3-49e5-b611-36dcb32b8bce",
   "metadata": {
    "ExecutionIndicator": {
     "show": false
    },
    "execution": {
     "iopub.execute_input": "2024-04-19T08:02:14.094936Z",
     "iopub.status.busy": "2024-04-19T08:02:14.094403Z",
     "iopub.status.idle": "2024-04-19T08:02:14.104638Z",
     "shell.execute_reply": "2024-04-19T08:02:14.103829Z",
     "shell.execute_reply.started": "2024-04-19T08:02:14.094903Z"
    },
    "tags": []
   },
   "outputs": [],
   "source": [
    "class WPLoss(nn.Module):\n",
    "    def __init__(self):\n",
    "        super(WPLoss, self).__init__()\n",
    "        self._innerLoss = nn.BCELoss()\n",
    "        self._sigmod = nn.Sigmoid()\n",
    "\n",
    "    def forward(self, hatouts, targets):\n",
    "        matchCnt, totalCnt, loss = 0.0, 0.0, 0.0\n",
    "        for hatout, tgt in zip(hatouts, targets):\n",
    "            mask = torch.gt(tgt, -1)\n",
    "            hatout = self._sigmod(torch.masked_select(hatout, mask))\n",
    "            tgt = torch.masked_select(tgt, mask)\n",
    "\n",
    "            if tgt.shape[0] > 0:\n",
    "                totalCnt += tgt.shape[0]\n",
    "                loss += self._innerLoss(hatout, tgt)\n",
    "\n",
    "                for i, x in zip(range(tgt.shape[0]), tgt):\n",
    "                    if x == 1 and hatout[i] > THRESHOLD:\n",
    "                        matchCnt += 1\n",
    "                    elif x == 0 and hatout[i] <= THRESHOLD:\n",
    "                        matchCnt += 1\n",
    "\n",
    "        return matchCnt, totalCnt, loss\n",
    "\n",
    "def computeParameterPrecision(hatouts, targets):\n",
    "    sigmod = nn.Sigmoid()\n",
    "    preTensor = torch.zeros((len(INSPECT2ID), 2))\n",
    "    # posAcc, missAcc, negAcc\n",
    "    frTensor = torch.zeros((len(INSPECT2ID), 3))\n",
    "    for hatout, tgt in zip(hatouts, targets):\n",
    "        hatout = sigmod(hatout)\n",
    "        for seq, iValue, tValue in zip(range(hatout.shape[0]), hatout, tgt):\n",
    "            if tValue <= -0.5:\n",
    "                continue\n",
    "\n",
    "            if (tValue > 0.8 and iValue > THRESHOLD) \\\n",
    "                or (tValue < 0.2 and iValue <= THRESHOLD):\n",
    "                preTensor[seq][0] += 1\n",
    "                preTensor[seq][1] += 1\n",
    "            else:\n",
    "                preTensor[seq][1] += 1\n",
    "\n",
    "            # cal precision and recall\n",
    "            if (tValue > 0.8 and iValue > THRESHOLD):\n",
    "                frTensor[seq][0] += 1\n",
    "            elif (tValue > 0.8 and iValue < THRESHOLD):\n",
    "                frTensor[seq][2] += 1\n",
    "            elif (tValue < 0.2 and iValue > THRESHOLD):\n",
    "                frTensor[seq][1] += 1\n",
    "    return preTensor, frTensor"
   ]
  },
  {
   "cell_type": "code",
   "execution_count": 5,
   "id": "c7c20274-a904-4f46-bffd-c0bb64dddc46",
   "metadata": {
    "ExecutionIndicator": {
     "show": true
    },
    "execution": {
     "iopub.execute_input": "2024-04-19T08:02:16.873340Z",
     "iopub.status.busy": "2024-04-19T08:02:16.872692Z",
     "iopub.status.idle": "2024-04-19T08:02:16.883632Z",
     "shell.execute_reply": "2024-04-19T08:02:16.882914Z",
     "shell.execute_reply.started": "2024-04-19T08:02:16.873309Z"
    },
    "tags": []
   },
   "outputs": [],
   "source": [
    "def listModelVer(subDir, modelName):\n",
    "    vers = []\n",
    "    for tmpFile in os.listdir(subDir):\n",
    "        if re.match(modelName + \"-\\d+\\.pth\", tmpFile):\n",
    "            _, saveTime, _ = re.split(\"-|\\.\", tmpFile)\n",
    "            vers.append((tmpFile, int(saveTime)))\n",
    "    vers.sort(key=lambda xx : xx[1], reverse=True)\n",
    "    return [x for x, _ in vers]\n",
    "\n",
    "def saveCheckpoint(model, optimizer, checkpointPath):\n",
    "    subDir = os.path.dirname(checkpointPath)\n",
    "    modelName = os.path.basename(checkpointPath)\n",
    "\n",
    "    if not os.path.exists(subDir):\n",
    "        os.makedirs(subDir)\n",
    "\n",
    "    fullModelName = \"%s-%s.pth\"%(modelName, int(ttime()))\n",
    "    fullPath = \"%s/%s\"%(subDir, fullModelName)\n",
    "    logger.info(\"@szh:Saving model and optimizer state at iteration at {}\".format(fullPath))\n",
    "\n",
    "    oldVers = listModelVer(subDir, modelName)\n",
    "    if len(oldVers) >= MODEL_SAVE_VER:\n",
    "        for oldVer in oldVers[MODEL_SAVE_VER - 1:]:\n",
    "            os.remove(\"%s/%s\"%(subDir, oldVer))\n",
    "\n",
    "    if hasattr(model, \"module\"):\n",
    "        state_dict = model.module.state_dict()\n",
    "    else:\n",
    "        state_dict = model.state_dict()\n",
    "\n",
    "    torch.save({\n",
    "        \"model\" : state_dict,\n",
    "        \"optimizer\" : optimizer.state_dict() if optimizer else None,\n",
    "    }, fullPath)\n",
    "\n",
    "def loadCheckPoint(model, optimizer, checkpointPath):\n",
    "    subDir = os.path.dirname(checkpointPath)\n",
    "    modelName = os.path.basename(checkpointPath)\n",
    "\n",
    "    if not os.path.exists(subDir):\n",
    "        os.makedirs(subDir)\n",
    "\n",
    "    oldVers = listModelVer(subDir, modelName)\n",
    "    if len(oldVers) > 0:\n",
    "        fullPath = \"%s/%s\"%(subDir, oldVers[0])\n",
    "        logger.info(\"@szh:load model and optimizer state from file: {}\".format(fullPath))\n",
    "        checkpointDict = torch.load(fullPath, map_location=device)\n",
    "        if optimizer is not None and checkpointDict[\"optimizer\"] is not None:\n",
    "            optimizer.load_state_dict(checkpointDict[\"optimizer\"])\n",
    "\n",
    "        if hasattr(model, \"module\"):\n",
    "            model.module.load_state_dict(checkpointDict[\"model\"])\n",
    "        else:\n",
    "            model.load_state_dict(checkpointDict[\"model\"])\n",
    "    else:\n",
    "        return"
   ]
  },
  {
   "cell_type": "code",
   "execution_count": null,
   "id": "47011d70-916d-439e-804e-4c5b92954f4a",
   "metadata": {
    "ExecutionIndicator": {
     "show": false
    },
    "execution": {
     "iopub.execute_input": "2024-04-19T08:02:20.035914Z",
     "iopub.status.busy": "2024-04-19T08:02:20.035471Z",
     "iopub.status.idle": "2024-04-19T08:02:27.328272Z",
     "shell.execute_reply": "2024-04-19T08:02:27.327358Z",
     "shell.execute_reply.started": "2024-04-19T08:02:20.035882Z"
    },
    "tags": []
   },
   "outputs": [],
   "source": [
    "vgg16 = models.vgg16(weights=torchvision.models.VGG16_Weights.DEFAULT)\n",
    "num_classes = len(IDS2INSPECT)\n",
    "vgg16.classifier[6] = nn.Linear(4096, num_classes)\n",
    "\n",
    "loadCheckPoint(vgg16, None, BASE_PATH + MODEL_DIR_PATH + \"/\" + MODEL_FILE_NAME)\n",
    "optimizer = optim.SGD(vgg16.parameters(), lr=LEARNING_RATE, momentum=0.9)\n",
    "\n",
    "vgg16.to(device)\n",
    "\n",
    "metrics = WPLoss()\n",
    "metrics.to(device)"
   ]
  },
  {
   "cell_type": "code",
   "execution_count": 7,
   "id": "f085a9f9-df96-48bf-ba51-585db52ca75e",
   "metadata": {
    "ExecutionIndicator": {
     "show": false
    },
    "execution": {
     "iopub.execute_input": "2024-04-19T04:10:43.582885Z",
     "iopub.status.busy": "2024-04-19T04:10:43.582264Z",
     "iopub.status.idle": "2024-04-19T04:10:43.594166Z",
     "shell.execute_reply": "2024-04-19T04:10:43.593550Z",
     "shell.execute_reply.started": "2024-04-19T04:10:43.582845Z"
    },
    "tags": []
   },
   "outputs": [],
   "source": [
    "def train_long(model, trainloaderPath, valloaderPath, loss_fn, epochs=5, optimizer=None, print_freq=10, save_freq=10):\n",
    "    optimizer = optimizer or torch.optim.Adam(model.parameters(), lr=LEARNING_RATE)\n",
    "    run_seq = 0\n",
    "    for epoch in range(epochs):\n",
    "        model.train()\n",
    "\n",
    "        norLoss, acc, cnt = 0.0, 0.0, 0.0\n",
    "        sepLoss, wAcc, wCnt = 0.0, 0.0, 0.0\n",
    "        prec, wPrec = torch.zeros((len(INSPECT2ID), 2)), torch.zeros((len(INSPECT2ID), 2))\n",
    "        frPrec, wFRPrec = torch.zeros((len(INSPECT2ID), 3)), torch.zeros((len(INSPECT2ID), 3))\n",
    "    \n",
    "        trainFiles = os.listdir(trainloaderPath)\n",
    "        for trainFile in trainFiles:\n",
    "            if not trainFile.startswith(\"train\"):\n",
    "                continue\n",
    "            logger.info(\"@szh: load train data: {}\".format(trainFile))\n",
    "            train_loader = torch.load(trainloaderPath + \"/\" + trainFile)\n",
    "            batch_seq = 0\n",
    "            for features, labels, winLabels in train_loader:\n",
    "                lbls = labels.to(device)\n",
    "                wLbls = winLabels.to(device)\n",
    "                features = features.to(device)\n",
    "\n",
    "                optimizer.zero_grad()\n",
    "                out = model(features)\n",
    "\n",
    "                bMatchCnt, bCnt, bNorLoss = loss_fn(out, lbls)\n",
    "                wBMatchCnt, wBCnt, wBSpecLoss = loss_fn(out, wLbls)\n",
    "\n",
    "                bWeiLoss = (wBSpecLoss / (wBCnt + 0.001)) * WEIGHT_RATE + (bNorLoss / bCnt) * (1 - WEIGHT_RATE)\n",
    "                #bWeiLoss.backward()\n",
    "                bNorLoss.backward()\n",
    "                optimizer.step()\n",
    "\n",
    "                lbls = labels.to('cpu')\n",
    "                wLbls = wLbls.to('cpu')\n",
    "                features = features.to('cpu')\n",
    "\n",
    "                norLoss += bNorLoss.item()\n",
    "                acc += bMatchCnt\n",
    "                cnt += bCnt\n",
    "\n",
    "                sepLoss += wBSpecLoss.item()\n",
    "                wAcc += wBMatchCnt\n",
    "                wCnt += wBCnt\n",
    "\n",
    "                tmpPrec, tmpFRPrec = computeParameterPrecision(out, lbls)\n",
    "                prec += tmpPrec\n",
    "                frPrec += tmpFRPrec\n",
    "\n",
    "                tmpPrec, tmpFRPrec = computeParameterPrecision(out, wLbls)\n",
    "                wPrec += tmpPrec\n",
    "                wFRPrec += tmpFRPrec\n",
    "\n",
    "                if (batch_seq + 1) % print_freq == 0:\n",
    "                    weiLoss = (sepLoss / (wCnt + 0.001)) * WEIGHT_RATE + (norLoss / cnt) * (1 - WEIGHT_RATE)\n",
    "                    logger.info(\"Epoch {}, minibatch {}: weiLoss = {}, sepcialLoss = {}, specialAcc = {}, norLoss = {}, norAcc = {}\".format(\\\n",
    "                        epoch,\\\n",
    "                        batch_seq,\\\n",
    "                        weiLoss,\\\n",
    "                        sepLoss / wCnt,\\\n",
    "                        wAcc / wCnt,\\\n",
    "                        norLoss / cnt,\\\n",
    "                        acc / cnt))\n",
    "\n",
    "                lbls = None\n",
    "                wLbls = None\n",
    "                features = None\n",
    "                batch_seq += 1\n",
    "                run_seq += 1\n",
    "\n",
    "            train_loader = None\n",
    "\n",
    "        saveCheckpoint(model, optimizer, BASE_PATH + MODEL_DIR_PATH + \"/\" + MODEL_FILE_NAME)\n",
    "\n",
    "        weiLoss = (sepLoss / (wCnt + 0.001)) * WEIGHT_RATE + (norLoss / cnt) * (1 - WEIGHT_RATE)\n",
    "        prec = torch.cat([prec, (prec[:, 0] / prec[:, 1]).unsqueeze(1)], dim=1)\n",
    "        wPrec = torch.cat([wPrec, (wPrec[:, 0] / wPrec[:, 1]).unsqueeze(1)], dim=1)\n",
    "\n",
    "        frPrec = torch.cat([frPrec, (frPrec[:, 0] / (frPrec[:, 0] + frPrec[:, 1])).unsqueeze(1), (frPrec[:, 0] / (frPrec[:, 0] + frPrec[:, 2])).unsqueeze(1)], dim=1)\n",
    "        wFRPrec = torch.cat([wFRPrec, (wFRPrec[:, 0] / (wFRPrec[:, 0] + wFRPrec[:, 1])).unsqueeze(1), (wFRPrec[:, 0] / (wFRPrec[:, 0] + wFRPrec[:, 2])).unsqueeze(1)], dim=1)\n",
    "        logger.info(\"Epoch {} done, TrainData: weiLoss = {}, sepcialLoss = {}, specialAcc = {}, norLoss = {}, norAcc = {}， fcPrec={}, wFCPrec={}\"\\\n",
    "                    .format(epoch, weiLoss, sepLoss / wCnt, wAcc / wCnt, norLoss / cnt, acc / cnt,  frPrec, wFRPrec ))\n",
    "\n",
    "        vWeiLoss, vSepLoss, vWAcc, vNorLoss, vAcc, vPrec, vWPrec, vFCPrec, vWFCPrec = validateOrTest(model, valloaderPath, loss_fn)\n",
    "        logger.info(\"Epoch {} done, ValidationData: weiLoss = {}, sepcialLoss = {}, specialAcc = {}, norLoss = {}, norAcc = {}, prec = {}, wPrec={}, fcPrec={}, wFCPrec={}\".\\\n",
    "                    format(epoch, vWeiLoss, vSepLoss, vWAcc, vNorLoss, vAcc, vPrec, vFCPrec, vFCPrec, vWFCPrec))"
   ]
  },
  {
   "cell_type": "code",
   "execution_count": 45,
   "id": "9bb50a41-3e85-4a3c-a1ba-34dfea7ac82e",
   "metadata": {
    "ExecutionIndicator": {
     "show": false
    },
    "execution": {
     "iopub.execute_input": "2024-04-19T08:29:22.883807Z",
     "iopub.status.busy": "2024-04-19T08:29:22.883245Z",
     "iopub.status.idle": "2024-04-19T08:29:22.895624Z",
     "shell.execute_reply": "2024-04-19T08:29:22.894855Z",
     "shell.execute_reply.started": "2024-04-19T08:29:22.883774Z"
    },
    "tags": []
   },
   "outputs": [],
   "source": [
    "def validateOrTest(model, dataloaderPath, loss_fn, datasetType='validation'):\n",
    "    norLoss, acc, cnt = 0.0, 0.0, 0.0\n",
    "    sepLoss, wAcc, wCnt = 0.0, 0.0, 0.0\n",
    "\n",
    "    prec, wPrec = torch.zeros((len(INSPECT2ID), 2)), torch.zeros((len(INSPECT2ID), 2))\n",
    "    frPrec, wFRPrec = torch.zeros((len(INSPECT2ID), 3)), torch.zeros((len(INSPECT2ID), 3))\n",
    "\n",
    "    model.eval()\n",
    "    with torch.no_grad():\n",
    "        dataloaderFiles = os.listdir(dataloaderPath)\n",
    "        for dataloaderFile in dataloaderFiles:\n",
    "            if not dataloaderFile.startswith(datasetType):\n",
    "                continue\n",
    "\n",
    "            dataloader = torch.load(dataloaderPath + \"/\" + dataloaderFile)\n",
    "            logger.info(\"@szh: load {} data: {}\".format(datasetType, dataloaderFile))\n",
    "            for features, labels, winLabels in dataloader:            \n",
    "                lbls = labels.to(device)\n",
    "                wLbls = winLabels.to(device)\n",
    "                features = features.to(device)\n",
    "\n",
    "                out = model(features)\n",
    "  \n",
    "                bMatchCnt, bCnt, bNorLoss = loss_fn(out, lbls)\n",
    "                wBMatchCnt, wBCnt, wBSpecLoss = loss_fn(out, wLbls)\n",
    "\n",
    "                lbls = labels.to('cpu')\n",
    "                wLbls = wLbls.to('cpu')\n",
    "                features = features.to('cpu')\n",
    "                out = out.to('cpu')\n",
    "\n",
    "                norLoss += bNorLoss\n",
    "                acc += bMatchCnt\n",
    "                cnt += bCnt\n",
    "\n",
    "                sepLoss += wBSpecLoss\n",
    "                wAcc += wBMatchCnt\n",
    "                wCnt += wBCnt\n",
    "\n",
    "                tmpPrec, tmpFRPrec = computeParameterPrecision(out, lbls)\n",
    "                prec += tmpPrec\n",
    "                frPrec += tmpFRPrec\n",
    "\n",
    "                tmpPrec, tmpFRPrec = computeParameterPrecision(out, wLbls)\n",
    "                wPrec += tmpPrec\n",
    "                wFRPrec += tmpFRPrec\n",
    "\n",
    "                lbls = None\n",
    "                wLbls = None\n",
    "                features = None\n",
    "            dataloader = None\n",
    "\n",
    "        weiLoss = (sepLoss / (wCnt + 0.001)) * WEIGHT_RATE + (norLoss / cnt) * (1 - WEIGHT_RATE)\n",
    "        prec = torch.cat([prec, (prec[:, 0] / prec[:, 1]).unsqueeze(1)], dim=1)\n",
    "        wPrec = torch.cat([wPrec, (wPrec[:, 0] / wPrec[:, 1]).unsqueeze(1)], dim=1)\n",
    "\n",
    "        frPrec = torch.cat([frPrec, (frPrec[:, 0] / (frPrec[:, 0] + frPrec[:, 1])).unsqueeze(1), (frPrec[:, 0] / (frPrec[:, 0] + frPrec[:, 2])).unsqueeze(1)], dim=1)\n",
    "        wFRPrec = torch.cat([wFRPrec, (wFRPrec[:, 0] / (wFRPrec[:, 0] + wFRPrec[:, 1])).unsqueeze(1), (wFRPrec[:, 0] / (wFRPrec[:, 0] + wFRPrec[:, 2])).unsqueeze(1)], dim=1)\n",
    "    return weiLoss, sepLoss / wCnt, wAcc / wCnt, norLoss / cnt, acc / cnt, prec, wPrec, frPrec, wFRPrec"
   ]
  },
  {
   "cell_type": "code",
   "execution_count": 11,
   "id": "683129a9-c73b-4a33-a11f-e852d6170389",
   "metadata": {
    "ExecutionIndicator": {
     "show": false
    },
    "execution": {
     "iopub.execute_input": "2024-04-19T08:04:07.601092Z",
     "iopub.status.busy": "2024-04-19T08:04:07.600653Z",
     "iopub.status.idle": "2024-04-19T08:04:07.604739Z",
     "shell.execute_reply": "2024-04-19T08:04:07.604016Z",
     "shell.execute_reply.started": "2024-04-19T08:04:07.601059Z"
    },
    "tags": []
   },
   "outputs": [],
   "source": [
    "TRAIN_DATA_PATH=BASE_PATH + \"/dataloader\"\n",
    "VALIDATION_DATA_PATH=BASE_PATH + \"/dataloader\"\n",
    "TEST_DATA_PATH=BASE_PATH + \"/dataloader\""
   ]
  },
  {
   "cell_type": "code",
   "execution_count": null,
   "id": "587499a2-18ef-438f-b97d-b63c79530b2a",
   "metadata": {
    "ExecutionIndicator": {
     "show": true
    },
    "tags": []
   },
   "outputs": [],
   "source": [
    "train_long(vgg16, TRAIN_DATA_PATH, VALIDATION_DATA_PATH, metrics, epochs=50, optimizer=optimizer, print_freq=500, save_freq=600)"
   ]
  },
  {
   "cell_type": "code",
   "execution_count": null,
   "id": "80b41a5f-c015-468c-93cb-7f04dbb41086",
   "metadata": {
    "ExecutionIndicator": {
     "show": true
    },
    "execution": {
     "iopub.status.busy": "2024-04-18T17:44:06.316739Z",
     "iopub.status.idle": "2024-04-18T17:44:06.317078Z",
     "shell.execute_reply": "2024-04-18T17:44:06.316927Z",
     "shell.execute_reply.started": "2024-04-18T17:44:06.316914Z"
    },
    "tags": []
   },
   "outputs": [],
   "source": [
    "vWeiLoss, vSepLoss, vWAcc, vNorLoss, vAcc, vPrec, vWPrec, vFCPrec, vWFCPrec = validateOrTest(vgg16, VALIDATION_DATA_PATH, metrics)\n",
    "logger.info(\"ValidationData: weiLoss = {}, sepcialLoss = {}, specialAcc = {}, norLoss = {}, norAcc = {}, prec = {}, wPrec={}, fcprec = {}, wRcPrec={\".\\\n",
    "                    format(vWeiLoss, vSepLoss, vWAcc, vNorLoss, vAcc, vPrec, vWPrec, vFCPrec, vWFCPrec))"
   ]
  },
  {
   "cell_type": "code",
   "execution_count": null,
   "id": "97020212-a873-46cc-b3c7-26567f13eb64",
   "metadata": {
    "ExecutionIndicator": {
     "show": true
    },
    "execution": {
     "iopub.execute_input": "2024-04-19T08:29:25.497468Z",
     "iopub.status.busy": "2024-04-19T08:29:25.497001Z",
     "iopub.status.idle": "2024-04-19T08:29:26.028108Z",
     "shell.execute_reply": "2024-04-19T08:29:26.027200Z",
     "shell.execute_reply.started": "2024-04-19T08:29:25.497421Z"
    },
    "tags": []
   },
   "outputs": [],
   "source": [
    "vWeiLoss, vSepLoss, vWAcc, vNorLoss, vAcc, vPrec, vWPrec, vFCPrec, vWFCPrec = validateOrTest(vgg16, TEST_DATA_PATH, metrics, 'test')\n",
    "logger.info(\"TestData: weiLoss = {}, sepcialLoss = {}, specialAcc = {}, norLoss = {}, norAcc = {}, prec = {}, wPrec={}, fcprec = {}, wRcPrec={}\".\\\n",
    "                    format(vWeiLoss, vSepLoss, vWAcc, vNorLoss, vAcc, vPrec, vWPrec, vFCPrec, vWFCPrec))"
   ]
  }
 ],
 "metadata": {
  "kernelspec": {
   "display_name": "Python 3 (ipykernel)",
   "language": "python",
   "name": "python3"
  },
  "language_info": {
   "codemirror_mode": {
    "name": "ipython",
    "version": 3
   },
   "file_extension": ".py",
   "mimetype": "text/x-python",
   "name": "python",
   "nbconvert_exporter": "python",
   "pygments_lexer": "ipython3",
   "version": "3.11.5"
  },
  "share": {
   "datetime": "2024-04-18T17:17:33.121Z",
   "image": {
    "name": "modelscope:1.13.3-pytorch2.1.2tensorflow2.14.0-gpu-py310-cu121-ubuntu22.04",
    "url": "dsw-registry-vpc.cn-hangzhou.cr.aliyuncs.com/pai/modelscope:1.13.3-pytorch2.1.2tensorflow2.14.0-gpu-py310-cu121-ubuntu22.04"
   },
   "instance": "dsw-6b8255a23ab92a57",
   "spec": {
    "id": "ecs.gn6v-c8g1.2xlarge",
    "type": "GPU"
   },
   "uid": "1964503367883560"
  }
 },
 "nbformat": 4,
 "nbformat_minor": 5
}
