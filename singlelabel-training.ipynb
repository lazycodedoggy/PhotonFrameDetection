{
 "cells": [
  {
   "cell_type": "code",
   "execution_count": null,
   "id": "5e6bd35b-8211-4282-8284-1b59716a81c7",
   "metadata": {
    "ExecutionIndicator": {
     "show": true
    },
    "execution": {
     "iopub.execute_input": "2024-04-19T16:33:06.188604Z",
     "iopub.status.busy": "2024-04-19T16:33:06.188104Z",
     "iopub.status.idle": "2024-04-19T16:33:10.777393Z",
     "shell.execute_reply": "2024-04-19T16:33:10.776654Z",
     "shell.execute_reply.started": "2024-04-19T16:33:06.188576Z"
    },
    "tags": []
   },
   "outputs": [],
   "source": [
    "import sys\n",
    "import os\n",
    "import logging\n",
    "import re\n",
    "from time import time as ttime\n",
    "\n",
    "import torch\n",
    "import torch.nn as nn\n",
    "import torch.optim as optim\n",
    "import torchvision\n",
    "import torchvision.models as models\n",
    "from torchinfo import summary\n",
    "from torch.utils.data import Dataset, IterableDataset, DataLoader, random_split\n",
    "import numpy as np\n",
    "\n",
    "from PhotonDataset import transform, PhotonDataset\n",
    "\n",
    "logging.getLogger(\"PIL\").setLevel(logging.ERROR)\n",
    "logging.basicConfig(stream=sys.stdout, level=logging.DEBUG)\n",
    "logger = logging"
   ]
  },
  {
   "cell_type": "code",
   "execution_count": 2,
   "id": "488c45c1-31b0-4208-8e10-adeb831d7570",
   "metadata": {
    "ExecutionIndicator": {
     "show": true
    },
    "execution": {
     "iopub.execute_input": "2024-04-19T16:33:13.234516Z",
     "iopub.status.busy": "2024-04-19T16:33:13.233853Z",
     "iopub.status.idle": "2024-04-19T16:33:13.239282Z",
     "shell.execute_reply": "2024-04-19T16:33:13.238645Z",
     "shell.execute_reply.started": "2024-04-19T16:33:13.234481Z"
    },
    "tags": []
   },
   "outputs": [],
   "source": [
    "BASE_PATH=\"/mnt/ossdata/\"\n",
    "\n",
    "INSPECT2ID = {\n",
    "    \"Stratum_corneum\" : 0,\n",
    "    \"DEJunction\" : 1,\n",
    "    \"ELCOR\" : 2,\n",
    "}\n",
    "\n",
    "IDS2INSPECT = {\n",
    "    0 : \"Stratum_corneum\",\n",
    "    1 : \"DEJunction\",\n",
    "    2 : \"ELCOR\",\n",
    "}\n",
    "\n",
    "PRECISION_WINDOWS=3\n",
    "\n",
    "ARGUMENT_TYPE=0\n",
    "MODEL_DIR_PATH=\"/versions\" + str(ARGUMENT_TYPE)\n",
    "MODEL_FILE_NAME=\"DoublePhoton\"\n",
    "THRESHOLD=0.7\n",
    "LEARNING_RATE=0.0001\n",
    "MODEL_SAVE_VER=50\n",
    "WEIGHT_RATE=0.8"
   ]
  },
  {
   "cell_type": "code",
   "execution_count": 3,
   "id": "c3a5f13f-0ede-4928-96cf-523a4255a6f1",
   "metadata": {
    "execution": {
     "iopub.execute_input": "2024-04-19T16:33:15.270307Z",
     "iopub.status.busy": "2024-04-19T16:33:15.269816Z",
     "iopub.status.idle": "2024-04-19T16:33:15.313242Z",
     "shell.execute_reply": "2024-04-19T16:33:15.312527Z",
     "shell.execute_reply.started": "2024-04-19T16:33:15.270275Z"
    },
    "tags": []
   },
   "outputs": [
    {
     "name": "stdout",
     "output_type": "stream",
     "text": [
      "Using cuda device\n"
     ]
    }
   ],
   "source": [
    "device = 'cuda' if torch.cuda.is_available() else 'cpu'\n",
    "print('Using {} device'.format(device))"
   ]
  },
  {
   "cell_type": "code",
   "execution_count": 4,
   "id": "47cd99fa-5cd3-49e5-b611-36dcb32b8bce",
   "metadata": {
    "ExecutionIndicator": {
     "show": true
    },
    "execution": {
     "iopub.execute_input": "2024-04-19T16:33:16.972005Z",
     "iopub.status.busy": "2024-04-19T16:33:16.971399Z",
     "iopub.status.idle": "2024-04-19T16:33:16.981401Z",
     "shell.execute_reply": "2024-04-19T16:33:16.980756Z",
     "shell.execute_reply.started": "2024-04-19T16:33:16.971973Z"
    },
    "tags": []
   },
   "outputs": [],
   "source": [
    "class WPLoss(nn.Module):\n",
    "    def __init__(self):\n",
    "        super(WPLoss, self).__init__()\n",
    "        self._innerLoss = nn.BCELoss()\n",
    "        self._sigmod = nn.Sigmoid()\n",
    "\n",
    "    def forward(self, hatouts, targets):\n",
    "        matchCnt, totalCnt, loss = 0.0, 0.0, 0.0\n",
    "        for hatout, tgt in zip(hatouts, targets):\n",
    "            mask = torch.gt(tgt, -1)\n",
    "            hatout = self._sigmod(torch.masked_select(hatout, mask))\n",
    "            tgt = torch.masked_select(tgt, mask)\n",
    "\n",
    "            if tgt.shape[0] > 0:\n",
    "                totalCnt += tgt.shape[0]\n",
    "                loss += self._innerLoss(hatout, tgt)\n",
    "                #print(\"2:loss:\", loss, hatout, tgt)\n",
    "                for i, x in zip(range(tgt.shape[0]), tgt):\n",
    "                    if x == 1 and hatout[i] > THRESHOLD:\n",
    "                        matchCnt += 1\n",
    "                    elif x == 0 and hatout[i] <= THRESHOLD:\n",
    "                        matchCnt += 1\n",
    "\n",
    "        return matchCnt, totalCnt, loss\n",
    "\n",
    "def computeParameterPrecision(hatouts, targets):\n",
    "    sigmod = nn.Sigmoid()\n",
    "    preTensor = torch.zeros(2)\n",
    "    # posAcc, missAcc, negAcc\n",
    "    frTensor = torch.zeros( 3)\n",
    "    \n",
    "    for hatout, tgt in zip(hatouts, targets):\n",
    "        hatout = sigmod(hatout)\n",
    "        \n",
    "        iValue = hatout.item()\n",
    "        tValue = tgt.item()\n",
    "\n",
    "        if tValue <= -0.5:\n",
    "            continue\n",
    "\n",
    "        if (tValue > 0.8 and iValue > THRESHOLD) \\\n",
    "            or (tValue < 0.2 and iValue <= THRESHOLD):\n",
    "            preTensor[0] += 1\n",
    "            preTensor[1] += 1\n",
    "        else:\n",
    "            preTensor[1] += 1\n",
    "\n",
    "        # cal precision and recall\n",
    "        if (tValue > 0.8 and iValue > THRESHOLD):\n",
    "            frTensor[0] += 1\n",
    "        elif (tValue > 0.8 and iValue < THRESHOLD):\n",
    "            frTensor[2] += 1\n",
    "        elif (tValue < 0.2 and iValue > THRESHOLD):\n",
    "            frTensor[1] += 1\n",
    "    return preTensor, frTensor"
   ]
  },
  {
   "cell_type": "code",
   "execution_count": 5,
   "id": "c7c20274-a904-4f46-bffd-c0bb64dddc46",
   "metadata": {
    "ExecutionIndicator": {
     "show": true
    },
    "execution": {
     "iopub.execute_input": "2024-04-19T16:33:19.460241Z",
     "iopub.status.busy": "2024-04-19T16:33:19.459656Z",
     "iopub.status.idle": "2024-04-19T16:33:19.470442Z",
     "shell.execute_reply": "2024-04-19T16:33:19.469505Z",
     "shell.execute_reply.started": "2024-04-19T16:33:19.460211Z"
    },
    "tags": []
   },
   "outputs": [],
   "source": [
    "def listModelVer(subDir, modelName):\n",
    "    vers = []\n",
    "    for tmpFile in os.listdir(subDir):\n",
    "        if re.match(modelName + \"-\\d+\\.pth\", tmpFile):\n",
    "            _, saveTime, _ = re.split(\"-|\\.\", tmpFile)\n",
    "            vers.append((tmpFile, int(saveTime)))\n",
    "    vers.sort(key=lambda xx : xx[1], reverse=True)\n",
    "    return [x for x, _ in vers]\n",
    "\n",
    "def saveCheckpoint(model, optimizer, checkpointPath):\n",
    "    subDir = os.path.dirname(checkpointPath)\n",
    "    modelName = os.path.basename(checkpointPath)\n",
    "\n",
    "    if not os.path.exists(subDir):\n",
    "        os.makedirs(subDir)\n",
    "\n",
    "    fullModelName = \"%s-%s.pth\"%(modelName, int(ttime()))\n",
    "    fullPath = \"%s/%s\"%(subDir, fullModelName)\n",
    "    logger.info(\"@szh:Saving model and optimizer state at iteration at {}\".format(fullPath))\n",
    "\n",
    "    oldVers = listModelVer(subDir, modelName)\n",
    "    if len(oldVers) >= MODEL_SAVE_VER:\n",
    "        for oldVer in oldVers[MODEL_SAVE_VER - 1:]:\n",
    "            os.remove(\"%s/%s\"%(subDir, oldVer))\n",
    "\n",
    "    if hasattr(model, \"module\"):\n",
    "        state_dict = model.module.state_dict()\n",
    "    else:\n",
    "        state_dict = model.state_dict()\n",
    "\n",
    "    torch.save({\n",
    "        \"model\" : state_dict,\n",
    "        \"optimizer\" : optimizer.state_dict() if optimizer else None,\n",
    "    }, fullPath)\n",
    "\n",
    "def loadCheckPoint(model, optimizer, checkpointPath):\n",
    "    subDir = os.path.dirname(checkpointPath)\n",
    "    modelName = os.path.basename(checkpointPath)\n",
    "\n",
    "    if not os.path.exists(subDir):\n",
    "        os.makedirs(subDir)\n",
    "\n",
    "    oldVers = listModelVer(subDir, modelName)\n",
    "    if len(oldVers) > 0:\n",
    "        fullPath = \"%s/%s\"%(subDir, oldVers[0])\n",
    "        logger.info(\"@szh:load model and optimizer state from file: {}\".format(fullPath))\n",
    "        checkpointDict = torch.load(fullPath, map_location=device)\n",
    "        if optimizer is not None and checkpointDict[\"optimizer\"] is not None:\n",
    "            optimizer.load_state_dict(checkpointDict[\"optimizer\"])\n",
    "\n",
    "        if hasattr(model, \"module\"):\n",
    "            model.module.load_state_dict(checkpointDict[\"model\"])\n",
    "        else:\n",
    "            model.load_state_dict(checkpointDict[\"model\"])\n",
    "    else:\n",
    "        return"
   ]
  },
  {
   "cell_type": "code",
   "execution_count": null,
   "id": "47011d70-916d-439e-804e-4c5b92954f4a",
   "metadata": {
    "ExecutionIndicator": {
     "show": true
    },
    "execution": {
     "iopub.execute_input": "2024-04-19T16:33:21.904993Z",
     "iopub.status.busy": "2024-04-19T16:33:21.904478Z",
     "iopub.status.idle": "2024-04-19T16:33:37.728895Z",
     "shell.execute_reply": "2024-04-19T16:33:37.728237Z",
     "shell.execute_reply.started": "2024-04-19T16:33:21.904963Z"
    },
    "tags": []
   },
   "outputs": [],
   "source": [
    "vgg16 = models.vgg16(weights=torchvision.models.VGG16_Weights.DEFAULT)\n",
    "vgg16.classifier[6] = nn.Linear(4096, 1)\n",
    "\n",
    "loadCheckPoint(vgg16, None, BASE_PATH + MODEL_DIR_PATH + \"/\" + MODEL_FILE_NAME)\n",
    "optimizer = optim.SGD(vgg16.parameters(), lr=LEARNING_RATE, momentum=0.9)\n",
    "\n",
    "vgg16.to(device)\n",
    "\n",
    "metrics = WPLoss()\n",
    "metrics.to(device)"
   ]
  },
  {
   "cell_type": "code",
   "execution_count": 8,
   "id": "2060e23b-b822-4155-867e-760a6398b025",
   "metadata": {
    "ExecutionIndicator": {
     "show": true
    },
    "execution": {
     "iopub.execute_input": "2024-04-19T16:33:58.707518Z",
     "iopub.status.busy": "2024-04-19T16:33:58.706901Z",
     "iopub.status.idle": "2024-04-19T16:33:58.731688Z",
     "shell.execute_reply": "2024-04-19T16:33:58.730826Z",
     "shell.execute_reply.started": "2024-04-19T16:33:58.707485Z"
    },
    "tags": []
   },
   "outputs": [],
   "source": [
    "def train_long(model, trainloaderPath, valloaderPath, loss_fn, epochs=5, optimizer=None, print_freq=10, save_freq=10):\n",
    "    optimizer = optimizer or torch.optim.Adam(model.parameters(), lr=LEARNING_RATE)\n",
    "    run_seq = 0\n",
    "    for epoch in range(epochs):\n",
    "        model.train()\n",
    "\n",
    "        norLoss, acc, cnt = 0.0, 0.0, 0.0\n",
    "        sepLoss, wAcc, wCnt = 0.0, 0.0, 0.0\n",
    "        prec, wPrec = torch.zeros(2), torch.zeros(2)\n",
    "        frPrec, wFRPrec = torch.zeros(3), torch.zeros(3)\n",
    "\n",
    "        trainFiles = os.listdir(trainloaderPath)\n",
    "        for trainFile in trainFiles:\n",
    "            if not trainFile.startswith(\"train\"):\n",
    "                continue\n",
    "            logger.info(\"@szh: load train data: {}\".format(trainFile))\n",
    "            train_loader = torch.load(trainloaderPath + \"/\" + trainFile)\n",
    "            batch_seq = 0\n",
    "            for features, labels, winLabels in train_loader:\n",
    "                if ARGUMENT_TYPE == 0:\n",
    "                    features[:, 2, :] = 0\n",
    "                labels = labels[:, ARGUMENT_TYPE]\n",
    "                winLabels = winLabels[:, ARGUMENT_TYPE]\n",
    "\n",
    "                mask = torch.gt(labels, -1)\n",
    "                tgts = torch.masked_select(labels, mask)\n",
    "                if tgts.shape[0] == 0:\n",
    "                    labels = None\n",
    "                    winLabels = None\n",
    "                    features = None\n",
    "                    continue\n",
    "\n",
    "                #print(\"@szh start train,\", run_seq, batch_seq)\n",
    "                lbls = labels.to(device)\n",
    "                wLbls = winLabels.to(device)\n",
    "                features = features.to(device)\n",
    "\n",
    "                optimizer.zero_grad()\n",
    "                out = model(features)\n",
    "\n",
    "                bMatchCnt, bCnt, bNorLoss = loss_fn(out, lbls)\n",
    "                wBMatchCnt, wBCnt, wBSpecLoss = loss_fn(out, wLbls)\n",
    "\n",
    "                bWeiLoss = (wBSpecLoss / (wBCnt + 0.001)) * WEIGHT_RATE + (bNorLoss / (bCnt + 0.0001)) * (1 - WEIGHT_RATE)\n",
    "                #bWeiLoss.backward()\n",
    "                # the effect of bNorLoss is better than bWeiLoss\n",
    "                bNorLoss.backward()\n",
    "                optimizer.step()\n",
    "\n",
    "                lbls = labels.to('cpu')\n",
    "                wLbls = wLbls.to('cpu')\n",
    "                features = features.to('cpu')\n",
    "\n",
    "                norLoss += bNorLoss.item()\n",
    "                acc += bMatchCnt\n",
    "                cnt += bCnt\n",
    "\n",
    "                sepLoss += wBSpecLoss.item()\n",
    "                wAcc += wBMatchCnt\n",
    "                wCnt += wBCnt\n",
    "\n",
    "                tmpPrec, tmpFRPrec = computeParameterPrecision(out, lbls)\n",
    "                prec += tmpPrec\n",
    "                frPrec += tmpFRPrec\n",
    "\n",
    "                tmpPrec, tmpFRPrec = computeParameterPrecision(out, wLbls)\n",
    "                wPrec += tmpPrec\n",
    "                wFRPrec += tmpFRPrec\n",
    "\n",
    "                if (batch_seq + 1) % print_freq == 0:\n",
    "                    weiLoss = (sepLoss / (wCnt + 0.001)) * WEIGHT_RATE + (norLoss / (cnt + 0.001)) * (1 - WEIGHT_RATE)\n",
    "                    logger.info(\"Epoch {}, minibatch {}: weiLoss = {}, sepcialLoss = {}, specialAcc = {}, norLoss = {}, norAcc = {}\".format(\\\n",
    "                        epoch,\\\n",
    "                        batch_seq,\\\n",
    "                        weiLoss,\\\n",
    "                        sepLoss / (wCnt + 0.0001),\\\n",
    "                        wAcc / (wCnt + 0.0001),\\\n",
    "                        norLoss / (cnt + 0.0001),\\\n",
    "                        acc / (cnt + 0.0001)))\n",
    "\n",
    "                lbls = None\n",
    "                wLbls = None\n",
    "                features = None\n",
    "                batch_seq += 1\n",
    "                run_seq += 1\n",
    "\n",
    "            train_loader = None\n",
    "\n",
    "        saveCheckpoint(model, optimizer, BASE_PATH + MODEL_DIR_PATH + \"/\" + MODEL_FILE_NAME)\n",
    "\n",
    "        weiLoss = (sepLoss / (wCnt + 0.001)) * WEIGHT_RATE + (norLoss / (cnt + 0.001)) * (1 - WEIGHT_RATE)\n",
    "        prec = torch.cat([prec, (prec[0] / prec[1]).unsqueeze(0)], dim=0)\n",
    "        wPrec = torch.cat([wPrec, (wPrec[0] / wPrec[1]).unsqueeze(0)], dim=0)\n",
    "\n",
    "        frPrec = torch.cat([frPrec, (frPrec[0] / (frPrec[0] + frPrec[1])).unsqueeze(0), (frPrec[0] / (frPrec[0] + frPrec[2])).unsqueeze(0)], dim=0)\n",
    "        wFRPrec = torch.cat([wFRPrec, (wFRPrec[0] / (wFRPrec[0] + wFRPrec[1])).unsqueeze(0), (wFRPrec[0] / (wFRPrec[0] + wFRPrec[2])).unsqueeze(0)], dim=0)\n",
    "        logger.info(\"Epoch {} done, TrainData: weiLoss = {}, sepcialLoss = {}, specialAcc = {}, norLoss = {}, norAcc = {}， fcPrec={}, wFCPrec={}\"\\\n",
    "                    .format(epoch, weiLoss, sepLoss / (wCnt + 0.001), wAcc / (wCnt + 0.001), norLoss / (cnt + 0.001), acc / (cnt + 0.001), frPrec, wFRPrec ))\n",
    "\n",
    "        vWeiLoss, vSepLoss, vWAcc, vNorLoss, vAcc, vPrec, vWPrec, vFCPrec, vWFCPrec = validateOrTest(model, valloaderPath, loss_fn)\n",
    "        logger.info(\"Epoch {} done, ValidationData: weiLoss = {}, sepcialLoss = {}, specialAcc = {}, norLoss = {}, norAcc = {}, prec = {}, wPrec={}, fcPrec={}, wFCPrec={}\".\\\n",
    "                    format(epoch, vWeiLoss, vSepLoss, vWAcc, vNorLoss, vAcc, vPrec, vFCPrec, vFCPrec, vWFCPrec))\n",
    "\n",
    "def validateOrTest(model, dataloaderPath, loss_fn, datasetType='validation'):\n",
    "    norLoss, acc, cnt = 0.0, 0.0, 0.0\n",
    "    sepLoss, wAcc, wCnt = 0.0, 0.0, 0.0\n",
    "\n",
    "    prec, wPrec = torch.zeros(2), torch.zeros(2)\n",
    "    frPrec, wFRPrec = torch.zeros(3), torch.zeros(3)\n",
    "\n",
    "    model.eval()\n",
    "    with torch.no_grad():\n",
    "        dataloaderFiles = os.listdir(dataloaderPath)\n",
    "        for dataloaderFile in dataloaderFiles:\n",
    "\n",
    "            if not dataloaderFile.startswith(datasetType):\n",
    "                continue\n",
    "\n",
    "            logger.info(\"@szh: load {} data: {}\".format(datasetType, dataloaderFile))\n",
    "            dataloader = torch.load(dataloaderPath + \"/\" + dataloaderFile)\n",
    "            for features, labels, winLabels in dataloader:\n",
    "                if ARGUMENT_TYPE == 0:\n",
    "                    features[:, 2, :] = 0\n",
    "\n",
    "                labels = labels[:, ARGUMENT_TYPE]\n",
    "                winLabels = winLabels[:, ARGUMENT_TYPE]\n",
    "\n",
    "                mask = torch.gt(labels, -1)\n",
    "                tgts = torch.masked_select(labels, mask)\n",
    "                if tgts.shape[0] == 0:\n",
    "                    labels = None\n",
    "                    winLabels = None\n",
    "                    features = None\n",
    "                    continue\n",
    "                lbls = labels.to(device)\n",
    "                wLbls = winLabels.to(device)\n",
    "                features = features.to(device)\n",
    "\n",
    "                out = model(features.to(device))\n",
    "\n",
    "                bMatchCnt, bCnt, bNorLoss = loss_fn(out, lbls)\n",
    "                wBMatchCnt, wBCnt, wBSpecLoss = loss_fn(out, wLbls)\n",
    "\n",
    "                lbls = labels.to('cpu')\n",
    "                wLbls = wLbls.to('cpu')\n",
    "                features = features.to('cpu')\n",
    "                out = out.to('cpu')\n",
    "\n",
    "                norLoss += bNorLoss\n",
    "                acc += bMatchCnt\n",
    "                cnt += bCnt\n",
    "\n",
    "                sepLoss += wBSpecLoss\n",
    "                wAcc += wBMatchCnt\n",
    "                wCnt += wBCnt\n",
    "\n",
    "                tmpPrec, tmpFRPrec = computeParameterPrecision(out, lbls)\n",
    "                prec += tmpPrec\n",
    "                frPrec += tmpFRPrec\n",
    "\n",
    "                tmpPrec, tmpFRPrec = computeParameterPrecision(out, wLbls)\n",
    "                wPrec += tmpPrec\n",
    "                wFRPrec += tmpFRPrec\n",
    "\n",
    "                lbls = None\n",
    "                wLbls = None\n",
    "                features = None\n",
    "\n",
    "            dataloader = None\n",
    "\n",
    "        weiLoss = (sepLoss / (wCnt + 0.001)) * WEIGHT_RATE + (norLoss / (cnt + 0.001)) * (1 - WEIGHT_RATE)\n",
    "        prec = torch.cat([prec, (prec[0] / prec[1]).unsqueeze(0)], dim=0)\n",
    "        wPrec = torch.cat([wPrec, (wPrec[0] / wPrec[1]).unsqueeze(0)], dim=0)\n",
    "\n",
    "        frPrec = torch.cat([frPrec, (frPrec[0] / (frPrec[0] + frPrec[1])).unsqueeze(0), (frPrec[0] / (frPrec[0] + frPrec[2])).unsqueeze(0)], dim=0)\n",
    "        wFRPrec = torch.cat([wFRPrec, (wFRPrec[0] / (wFRPrec[0] + wFRPrec[1])).unsqueeze(0), (wFRPrec[0] / (wFRPrec[0] + wFRPrec[2])).unsqueeze(0)], dim=0)\n",
    "    #print(\"@szh: value: \", acc, cnt, wAcc, wCnt, prec, wPrec)\n",
    "    return weiLoss, sepLoss / (wCnt + 0.001), wAcc / (wCnt + 0.001), norLoss / (cnt + 0.001), acc / (cnt + 0.001), prec, wPrec, frPrec, wFRPrec"
   ]
  },
  {
   "cell_type": "code",
   "execution_count": 9,
   "id": "683129a9-c73b-4a33-a11f-e852d6170389",
   "metadata": {
    "execution": {
     "iopub.execute_input": "2024-04-19T16:34:03.675964Z",
     "iopub.status.busy": "2024-04-19T16:34:03.675455Z",
     "iopub.status.idle": "2024-04-19T16:34:03.679769Z",
     "shell.execute_reply": "2024-04-19T16:34:03.679037Z",
     "shell.execute_reply.started": "2024-04-19T16:34:03.675932Z"
    },
    "tags": []
   },
   "outputs": [],
   "source": [
    "TRAIN_DATA_PATH=BASE_PATH + \"/dataloader\"\n",
    "VALIDATION_DATA_PATH=BASE_PATH + \"/dataloader\"\n",
    "TEST_DATA_PATH=BASE_PATH + \"/dataloader\""
   ]
  },
  {
   "cell_type": "code",
   "execution_count": null,
   "id": "587499a2-18ef-438f-b97d-b63c79530b2a",
   "metadata": {
    "ExecutionIndicator": {
     "show": true
    },
    "execution": {
     "iopub.execute_input": "2024-04-19T16:34:08.339768Z",
     "iopub.status.busy": "2024-04-19T16:34:08.339250Z"
    },
    "tags": []
   },
   "outputs": [],
   "source": [
    "train_long(vgg16, TRAIN_DATA_PATH, VALIDATION_DATA_PATH, metrics, epochs=20, optimizer=optimizer, print_freq=50, save_freq=600)"
   ]
  },
  {
   "cell_type": "code",
   "execution_count": null,
   "id": "80b41a5f-c015-468c-93cb-7f04dbb41086",
   "metadata": {
    "ExecutionIndicator": {
     "show": true
    },
    "tags": []
   },
   "outputs": [],
   "source": [
    "vWeiLoss, vSepLoss, vWAcc, vNorLoss, vAcc, vPrec, vWPrec, vFCPrec, vWFCPrec = validateOrTest(vgg16, VALIDATION_DATA_PATH, metrics)\n",
    "logger.info(\"ValidationData: weiLoss = {}, sepcialLoss = {}, specialAcc = {}, norLoss = {}, norAcc = {}, prec = {}, wPrec={}, fcprec = {}, wRcPrec={}\".\\\n",
    "                    format(vWeiLoss, vSepLoss, vWAcc, vNorLoss, vAcc, vPrec, vWPrec, vFCPrec, vWFCPrec))"
   ]
  },
  {
   "cell_type": "code",
   "execution_count": null,
   "id": "97020212-a873-46cc-b3c7-26567f13eb64",
   "metadata": {
    "ExecutionIndicator": {
     "show": true
    },
    "tags": []
   },
   "outputs": [],
   "source": [
    "vWeiLoss, vSepLoss, vWAcc, vNorLoss, vAcc, vPrec, vWPrec, vFCPrec, vWFCPrec = validateOrTest(vgg16, TEST_DATA_PATH, metrics, 'test')\n",
    "logger.info(\"TestData: weiLoss = {}, sepcialLoss = {}, specialAcc = {}, norLoss = {}, norAcc = {}, prec = {}, wPrec={}, fcprec = {}, wRcPrec={}\".\\\n",
    "                    format(vWeiLoss, vSepLoss, vWAcc, vNorLoss, vAcc, vPrec, vWPrec, vFCPrec, vWFCPrec))"
   ]
  }
 ],
 "metadata": {
  "kernelspec": {
   "display_name": "Python 3 (ipykernel)",
   "language": "python",
   "name": "python3"
  },
  "language_info": {
   "codemirror_mode": {
    "name": "ipython",
    "version": 3
   },
   "file_extension": ".py",
   "mimetype": "text/x-python",
   "name": "python",
   "nbconvert_exporter": "python",
   "pygments_lexer": "ipython3",
   "version": "3.11.5"
  }
 },
 "nbformat": 4,
 "nbformat_minor": 5
}
